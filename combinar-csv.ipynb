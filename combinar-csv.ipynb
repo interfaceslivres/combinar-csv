{
 "cells": [
  {
   "cell_type": "code",
   "execution_count": 1,
   "id": "11e6de3e-4afe-4b48-adec-d6ed716b87ec",
   "metadata": {},
   "outputs": [
    {
     "name": "stdout",
     "output_type": "stream",
     "text": [
      "Arquivo final salvo em: C:\\Users\\Paulo\\Documents\\Python-projects\\steam-rev-br\\comentarios_combinados.csv\n",
      "Total de linhas combinadas: 1246\n"
     ]
    }
   ],
   "source": [
    "import pandas as pd\n",
    "import glob\n",
    "import os\n",
    "\n",
    "# Caminho para a pasta que contém os arquivos CSV\n",
    "caminho_csv = 'C:\\\\Users\\\\Paulo\\\\Documents\\\\Python-projects\\\\steam-rev-br\\\\'\n",
    "\n",
    "# Buscando todos os arquivos CSV no diretório especificado\n",
    "arquivos_csv = glob.glob(f\"{caminho_csv}*.csv\")\n",
    "\n",
    "# Preparando uma lista para armazenar os DataFrames\n",
    "dfs = []\n",
    "\n",
    "# Lendo e combinando todos os CSV válidos em um único DataFrame\n",
    "for arquivo in arquivos_csv:\n",
    "    # Verifica se o arquivo está vazio antes de tentar lê-lo\n",
    "    if os.stat(arquivo).st_size > 0:  # Verifica se o arquivo não está vazio\n",
    "        try:\n",
    "            df_temp = pd.read_csv(arquivo)\n",
    "            if not df_temp.empty:\n",
    "                dfs.append(df_temp)\n",
    "        except pd.errors.EmptyDataError:\n",
    "            print(f\"O arquivo {arquivo} está vazio ou não pôde ser lido.\")\n",
    "    else:\n",
    "        print(f\"O arquivo {arquivo} está vazio e será ignorado.\")\n",
    "\n",
    "# Combinando todos os DataFrames, se houver algum para combinar\n",
    "if dfs:\n",
    "    df_combinado = pd.concat(dfs)\n",
    "\n",
    "    # Salvando o DataFrame combinado em um novo arquivo CSV\n",
    "    caminho_csv_final = f\"{caminho_csv}comentarios_combinados.csv\"\n",
    "    df_combinado.to_csv(caminho_csv_final, index=False)\n",
    "\n",
    "    print(f\"Arquivo final salvo em: {caminho_csv_final}\")\n",
    "    print(f\"Total de linhas combinadas: {len(df_combinado)}\")\n",
    "else:\n",
    "    print(\"Nenhum arquivo válido para combinar foi encontrado.\")"
   ]
  }
 ],
 "metadata": {
  "kernelspec": {
   "display_name": "Python 3 (ipykernel)",
   "language": "python",
   "name": "python3"
  },
  "language_info": {
   "codemirror_mode": {
    "name": "ipython",
    "version": 3
   },
   "file_extension": ".py",
   "mimetype": "text/x-python",
   "name": "python",
   "nbconvert_exporter": "python",
   "pygments_lexer": "ipython3",
   "version": "3.10.9"
  }
 },
 "nbformat": 4,
 "nbformat_minor": 5
}
